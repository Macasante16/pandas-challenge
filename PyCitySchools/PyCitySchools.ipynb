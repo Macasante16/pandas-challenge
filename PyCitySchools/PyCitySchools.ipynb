{
 "cells": [
  {
   "cell_type": "markdown",
   "metadata": {},
   "source": [
    "# PyCity Schools Analysis\n",
    "\n",
    "- The most obvious observed trend was that Reading scores were superior to math across all schools. Reading passing rate was 100%, compared to math's around 89%.\n",
    "\n",
    "- Charter school results had higher average scores in both math and reading. Also ,the smaller the school, the more likely it was to have higher reading and math scores.\n",
    "\n",
    "- Counter-intuitively, *lower* spending ranges per student resulted in higher average math and reading scores. \n"
   ]
  },
  {
   "cell_type": "code",
   "execution_count": 1,
   "metadata": {},
   "outputs": [],
   "source": [
    "# Dependencies\n",
    "import pandas as pd"
   ]
  },
  {
   "cell_type": "code",
   "execution_count": 2,
   "metadata": {},
   "outputs": [],
   "source": [
    "# load CSVs\n",
    "schools_csv  = \"raw_data/schools_complete.csv\"\n",
    "students_csv = \"raw_data/students_complete.csv\""
   ]
  },
  {
   "cell_type": "markdown",
   "metadata": {},
   "source": [
    "## Overall District Summary\n",
    "#### Read each CSV file with pandas, determine average scores/passing rate, and aggregate into summary dataframe"
   ]
  },
  {
   "cell_type": "code",
   "execution_count": 3,
   "metadata": {},
   "outputs": [
    {
     "ename": "NameError",
     "evalue": "name 'dfStudentsInDistricts' is not defined",
     "output_type": "error",
     "traceback": [
      "\u001b[1;31m---------------------------------------------------------------------------\u001b[0m",
      "\u001b[1;31mNameError\u001b[0m                                 Traceback (most recent call last)",
      "\u001b[1;32m<ipython-input-3-7cb1d93de853>\u001b[0m in \u001b[0;36m<module>\u001b[1;34m\u001b[0m\n\u001b[0;32m     24\u001b[0m \u001b[1;33m\u001b[0m\u001b[0m\n\u001b[0;32m     25\u001b[0m \u001b[1;31m# Determine average math score\u001b[0m\u001b[1;33m\u001b[0m\u001b[1;33m\u001b[0m\u001b[1;33m\u001b[0m\u001b[0m\n\u001b[1;32m---> 26\u001b[1;33m \u001b[0maverage_math_score\u001b[0m \u001b[1;33m=\u001b[0m \u001b[0mdfStudentsInDistricts\u001b[0m\u001b[1;33m[\u001b[0m\u001b[1;34m\"math_score\"\u001b[0m\u001b[1;33m]\u001b[0m\u001b[1;33m.\u001b[0m\u001b[0mmean\u001b[0m\u001b[1;33m(\u001b[0m\u001b[1;33m)\u001b[0m\u001b[1;33m\u001b[0m\u001b[1;33m\u001b[0m\u001b[0m\n\u001b[0m\u001b[0;32m     27\u001b[0m \u001b[0maverage_math_score\u001b[0m \u001b[1;33m=\u001b[0m \u001b[0mround\u001b[0m\u001b[1;33m(\u001b[0m\u001b[0maverage_math_score\u001b[0m\u001b[1;33m,\u001b[0m \u001b[1;36m6\u001b[0m\u001b[1;33m)\u001b[0m\u001b[1;33m\u001b[0m\u001b[1;33m\u001b[0m\u001b[0m\n\u001b[0;32m     28\u001b[0m \u001b[1;33m\u001b[0m\u001b[0m\n",
      "\u001b[1;31mNameError\u001b[0m: name 'dfStudentsInDistricts' is not defined"
     ]
    }
   ],
   "source": [
    "dfSchools = pd.read_csv(schools_csv, encoding=\"iso-8859-1\", low_memory=False)\n",
    "dfStudents = pd.read_csv(students_csv, encoding=\"iso-8859-1\", low_memory=False)\n",
    "\n",
    "# *** Determine total number of schools in district ***\n",
    "dfDistrictSchools = dfSchools.loc[dfSchools[\"type\"] == \"District\"]\n",
    "\n",
    "# Determine school count\n",
    "num_schools_in_district = len(dfDistrictSchools)\n",
    "\n",
    "# *** Determine total number of students in districts ***\n",
    "# Rename ambiguous column names\n",
    "dfSchools = dfSchools.rename(columns={\"name\": \"school_name\"})\n",
    "dfStudents = dfStudents.rename(columns={\"school\": \"school_name\", \"name\": \"student_name\"})\n",
    "\n",
    "# Merge schools and students dataframes using an inner join\n",
    "dfStudentsInSchools = pd.merge(dfSchools, dfStudents, on=\"school_name\")\n",
    "\n",
    "# Filter merged dataframe by just district school students\n",
    "num_students_in_districts = dfStudentsInSchools.loc[dfStudentsInSchools[\"type\"] == \"District\"].count()[\"student_name\"]\n",
    "\n",
    "# Determine / format total budget for district\n",
    "district_budget = dfDistrictSchools[\"budget\"].sum()\n",
    "district_budget = \"${:,.2f}\".format(district_budget)\n",
    "\n",
    "# Determine average math score\n",
    "average_math_score = dfStudentsInDistricts[\"math_score\"].mean()\n",
    "average_math_score = round(average_math_score, 6)\n",
    "\n",
    "# Determine average reading score\n",
    "average_reading_score = dfStudentsInDistricts[\"reading_score\"].mean()\n",
    "average_reading_score = round(average_reading_score, 6)\n",
    "\n",
    "# Determine % passing math\n",
    "num_students_passing_math = dfStudentsInDistricts.loc[dfStudentsInDistricts[\"math_score\"] > 59].count()[\"student_name\"]\n",
    "percent_students_passing_math = (num_students_passing_math / num_students_in_districts) * 100\n",
    "\n",
    "# Determine % passing reading\n",
    "num_students_passing_reading = dfStudentsInDistricts.loc[dfStudentsInDistricts[\"reading_score\"] > 59].count()[\"student_name\"]\n",
    "percent_students_passing_reading = (num_students_passing_reading / num_students_in_districts) * 100\n",
    "\n",
    "# Determine overall passing rate (average of math/reading)\n",
    "overall_passing_rate = round(((percent_students_passing_math + percent_students_passing_reading) / 2), 5)\n",
    "\n",
    "# Set up summary table\n",
    "summary_table_data = {'Total Schools': [num_schools_in_district],\n",
    "                      'Total Students': [num_students_in_district],\n",
    "                      'Total Budget': [district_budget], \n",
    "                      'Average Math Score': [average_math_score],\n",
    "                      'Average Reading Score': [average_reading_score],\n",
    "                      '% Passing Math': [percent_students_passing_math],\n",
    "                      '% Passing Reading': [percent_students_passing_reading],\n",
    "                      '% Overall Passing Rate': [overall_passing_rate]\n",
    "                     }\n",
    "dfSummary = pd.DataFrame(summary_table_data)\n",
    "dfSummary = dfSummary[\n",
    "                        [\"Total Schools\", \"Total Students\", \"Total Budget\", \"Average Math Score\", \"Average Reading Score\",\n",
    "                          \"% Passing Math\", \"% Passing Reading\", \"% Overall Passing Rate\"]\n",
    "                     ]\n",
    "dfSummary.head()"
   ]
  },
  {
   "cell_type": "markdown",
   "metadata": {},
   "source": [
    "## Performance Summary by School\n",
    "#### Build function to return a Dataframe summarizing the schools data"
   ]
  },
  {
   "cell_type": "code",
   "execution_count": null,
   "metadata": {},
   "outputs": [],
   "source": [
    "''' \n",
    "Function:   schools_summary\n",
    "Argument:   Merged \"students by schools\" dataframe\n",
    "Returns:    Schools performance summary dataFrame\n",
    "'''\n",
    "def schools_summary(df_students_in_schools):\n",
    "    # Create groupby object for schools\n",
    "    schools_grouping = df_students_in_schools.groupby(\"School ID\")\n",
    "\n",
    "    # Create a master dataframe to hold schools totals \n",
    "    dfSchoolTotals = pd.DataFrame(schools_grouping[\"school_name\"].size()).reset_index()\n",
    "    dfSchoolTotals = dfSchoolTotals.rename(columns={\"school_name\": \"number_of_students\"})\n",
    "\n",
    "    # Find out the average math and reading scores, and build dataframes for them \n",
    "    dfSchools_MathAverage = pd.DataFrame(schools_grouping[\"math_score\"].mean()).reset_index()\n",
    "    dfSchools_ReadingAverage = pd.DataFrame(schools_grouping[\"reading_score\"].mean()).reset_index()\n",
    "\n",
    "    # Rename the column to be more specific\n",
    "    dfSchools_MathAverage = dfSchools_MathAverage.rename(columns={\"math_score\": \"average_math_score\"})\n",
    "    dfSchools_ReadingAverage = dfSchools_ReadingAverage.rename(columns={\"reading_score\": \"average_reading_score\"})\n",
    "\n",
    "    # Merge the dataframes with dfSchoolTotals to form new summary dataframe\n",
    "    dfSchoolsSummary = pd.merge(dfSchoolTotals, dfSchools_MathAverage, on=\"School ID\")\n",
    "    dfSchoolsSummary = pd.merge(dfSchoolsSummary, dfSchools_ReadingAverage, on=\"School ID\")\n",
    "\n",
    "    # Determine the % Passing math\n",
    "    dfStudentsPassingMath = df_students_in_schools[df_students_in_schools[\"math_score\"] > 59]\n",
    "    schools_grouping_passingmath = dfStudentsPassingMath.groupby(\"School ID\")\n",
    "    dfSchools_PassingMath = schools_grouping_passingmath[\"student_name\"].count().reset_index()\n",
    "    dfSchools_PassingMath = dfSchools_PassingMath.rename(columns={\"student_name\": \"num_students_passedmath\"})\n",
    "\n",
    "    # Merge num_students_passed_math column into our summary dataframe\n",
    "    dfSchoolsSummary = pd.merge(dfSchoolsSummary, dfSchools_PassingMath, on=\"School ID\")\n",
    "\n",
    "    # Determine the % Passing reading\n",
    "    dfStudentsPassingReading = df_students_in_schools[df_students_in_schools[\"reading_score\"] > 59]\n",
    "    schools_grouping_passingreading = dfStudentsPassingReading.groupby(\"School ID\")\n",
    "    dfSchools_PassingReading = schools_grouping_passingreading[\"student_name\"].count().reset_index()\n",
    "    dfSchools_PassingReading = dfSchools_PassingReading.rename(columns={\"student_name\": \"num_students_passedreading\"})\n",
    "\n",
    "    # Merge num_students_passed_reading column back into our summary dataframe\n",
    "    dfSchoolsSummary = pd.merge(dfSchoolsSummary, dfSchools_PassingReading, on=\"School ID\")\n",
    "\n",
    "    # Add a column for the percentage of students passing math & reading, based on the total number of students at the school\n",
    "    dfSchoolsSummary[\"percentage_students_passedmath\"] = (dfSchoolsSummary[\"num_students_passedmath\"]/dfSchoolsSummary[\"number_of_students\"])*100\n",
    "    dfSchoolsSummary[\"percentage_students_passedreading\"] = (dfSchoolsSummary[\"num_students_passedreading\"]/dfSchoolsSummary[\"number_of_students\"])*100\n",
    "\n",
    "    # Add a column for the % Overall Passing Rate\n",
    "    dfSchoolsSummary[\"overall_passing_rate\"] = (dfSchoolsSummary[\"percentage_students_passedmath\"] + dfSchoolsSummary[\"percentage_students_passedreading\"])/2\n",
    "\n",
    "    return dfSchoolsSummary\n"
   ]
  },
  {
   "cell_type": "markdown",
   "metadata": {},
   "source": [
    "#### Create school summary dataframe, and perform additional customizations on it. Return dataframe to visualize data."
   ]
  },
  {
   "cell_type": "code",
   "execution_count": null,
   "metadata": {},
   "outputs": [],
   "source": [
    "# Put performance summary dataframe into variable\n",
    "dfSchoolsSummary = schools_summary(dfStudentsInSchools)\n",
    "\n",
    "# Merge our summary table back with the main Schools DF to append the remaining needed columns\n",
    "dfSchoolSummaryTable = pd.merge(dfSchoolsSummary, dfSchools, on=\"School ID\")\n",
    "\n",
    "# Add the 'Per Student Budget' column\n",
    "dfSchoolSummaryTable[\"Per Student Budget\"] = dfSchoolSummaryTable[\"budget\"] / dfSchoolSummaryTable[\"number_of_students\"]\n",
    "    \n",
    "# Drop the columns we no longer need for display\n",
    "dfSchoolSummaryTable.drop([\"School ID\", \"num_students_passedreading\", \"num_students_passedmath\", \"size\"], axis=1, inplace=True)\n",
    "\n",
    "# Format the budget columns as currency\n",
    "dfSchoolSummaryTable[\"budget\"] = dfSchoolSummaryTable[\"budget\"].map(\"${:,.2f}\".format)\n",
    "dfSchoolSummaryTable[\"Per Student Budget\"] = dfSchoolSummaryTable[\"Per Student Budget\"].map(\"${:,.2f}\".format)\n",
    "\n",
    "# Rename the columns to be more human-readable\n",
    "dfSchoolSummaryTable = dfSchoolSummaryTable.rename(columns={\"number_of_students\": \"Total Students\", \n",
    "                                                    \"average_math_score\": \"Average Math Score\",\n",
    "                                                   \"average_reading_score\": \"Average Reading Score\",\n",
    "                                                    \"percentage_students_passedmath\": \"% Passing Math\",\n",
    "                                                    \"percentage_students_passedreading\": \"% Passing Reading\",\n",
    "                                                    \"overall_passing_rate\": \"% Overall Passing Rate\",\n",
    "                                                    \"type\": \"School Type\",\n",
    "                                                    \"budget\": \"Total School Budget\",\n",
    "                                                    \"school_name\": \"Name\"\n",
    "                                                       }\n",
    "                                                    )\n",
    "# Order the columns, set index to school \"name\"\n",
    "dfSchoolSummaryTable = dfSchoolSummaryTable[['Name', 'School Type', 'Total Students', 'Total School Budget', 'Per Student Budget', \n",
    "                                             'Average Math Score', 'Average Reading Score','% Passing Math', '% Passing Reading', \n",
    "                                             '% Overall Passing Rate'\n",
    "                                            ]].set_index(\"Name\")\n",
    "dfSchoolSummaryTable.head(30)"
   ]
  },
  {
   "cell_type": "markdown",
   "metadata": {},
   "source": [
    "### Summary of top 5 performing schools"
   ]
  },
  {
   "cell_type": "code",
   "execution_count": null,
   "metadata": {},
   "outputs": [],
   "source": [
    "# Sort the Schools dataframe by the Overall Rating\n",
    "dfSchoolSummaryTable = dfSchoolSummaryTable.sort_values(\"% Overall Passing Rate\", ascending=False)\n",
    "\n",
    "# Output the top 5 performing schools\n",
    "dfSchoolSummaryTable.head()"
   ]
  },
  {
   "cell_type": "markdown",
   "metadata": {},
   "source": [
    "### Summary of bottom 5 performing schools"
   ]
  },
  {
   "cell_type": "code",
   "execution_count": null,
   "metadata": {},
   "outputs": [],
   "source": [
    "# Sort the Schools dataframe by the Overall Rating\n",
    "dfSchoolSummaryTable = dfSchoolSummaryTable.sort_values(\"% Overall Passing Rate\", ascending=True)\n",
    "\n",
    "# Output the bottom 5 performing schools\n",
    "dfSchoolSummaryTable.head()"
   ]
  },
  {
   "cell_type": "markdown",
   "metadata": {},
   "source": [
    "## Performance by Grade Level\n",
    "#### Create a table that lists the average Math/Reading Score for students of each grade level (9th, 10th, 11th, 12th) at each school."
   ]
  },
  {
   "cell_type": "code",
   "execution_count": null,
   "metadata": {},
   "outputs": [],
   "source": [
    "'''\n",
    "Function:   average_scores_by_grade\n",
    "Argument:   score type (\"math\" or \"reading\")\n",
    "Returns:\n",
    "            Dataframe of math/reading score averages\n",
    "'''\n",
    "def average_scores_by_grade(type):\n",
    "    # Define column we are filtering by (e.g., \"math_score\")\n",
    "    col = f\"{type}_score\"\n",
    "    \n",
    "    # Find out the average math and reading scores for each grade on the schools grouping, \n",
    "    #  and build dataframes for them:\n",
    "    #\n",
    "    # For students in each grade, group by school, and aggregate average score (math or reading)\n",
    "    dfGrade9_Average = dfStudentsInSchools.loc[dfStudentsInSchools[\"grade\"] == \"9th\"].groupby(\"school_name\")[col].mean().reset_index()\n",
    "    dfGrade10_Average = dfStudentsInSchools.loc[dfStudentsInSchools[\"grade\"] == \"10th\"].groupby(\"school_name\")[col].mean().reset_index()\n",
    "    dfGrade11_Average = dfStudentsInSchools.loc[dfStudentsInSchools[\"grade\"] == \"11th\"].groupby(\"school_name\")[col].mean().reset_index()\n",
    "    dfGrade12_Average = dfStudentsInSchools.loc[dfStudentsInSchools[\"grade\"] == \"12th\"].groupby(\"school_name\")[col].mean().reset_index()\n",
    "    \n",
    "    # Repurpose our Schools summary table again as a new summary dataframe\n",
    "    dfAverages = dfSchoolSummaryTable.reset_index()\n",
    "\n",
    "    # Merge 9th and 10th grade-specific math/reading averages with the new summary dataframe\n",
    "    dfAverages = pd.merge(dfAverages, dfGrade9_Average, left_on=['Name'], right_on=['school_name'])\n",
    "    dfAverages = pd.merge(dfAverages, dfGrade10_Average, left_on=['Name'], right_on=['school_name'])\n",
    "    dfAverages = dfAverages.rename(columns={f\"{col}_x\": \"9th\", f\"{col}_y\": \"10th\"})  # Rename columns\n",
    "    dfAverages = pd.merge(dfAverages, dfGrade11_Average, left_on=['Name'], right_on=['school_name'])\n",
    "    dfAverages = pd.merge(dfAverages, dfGrade12_Average, left_on=['Name'], right_on=['school_name'])\n",
    "    dfAverages = dfAverages.rename(columns={f\"{col}_x\": \"11th\", f\"{col}_y\": \"12th\"})  # Rename columns\n",
    "    \n",
    "    # Remove the extra Schools summary columns we don't need, then the extra school name columns\n",
    "    dfAverages.drop(dfAverages.columns[1:10], axis=1, inplace=True)\n",
    "    dfAverages.drop(dfAverages.columns[[1,3,5,7]], axis=1, inplace=True)\n",
    "\n",
    "    # Reset index to school name, and rename columns\n",
    "    dfAverages = dfAverages.set_index(\"Name\")\n",
    "    \n",
    "    # Return cleaned up dataframe\n",
    "    return dfAverages\n"
   ]
  },
  {
   "cell_type": "markdown",
   "metadata": {},
   "source": [
    "### Average Math Scores by Grade"
   ]
  },
  {
   "cell_type": "code",
   "execution_count": null,
   "metadata": {},
   "outputs": [],
   "source": [
    "# Output summary table for average math scores by grade \n",
    "dfMathSummary = average_scores_by_grade(\"math\")\n",
    "\n",
    "dfMathSummary.head(30)"
   ]
  },
  {
   "cell_type": "markdown",
   "metadata": {},
   "source": [
    "### Average Reading Scores by Grade"
   ]
  },
  {
   "cell_type": "code",
   "execution_count": null,
   "metadata": {},
   "outputs": [],
   "source": [
    "# Output summary table for average reading scores by grade \n",
    "dfReadingSummary = average_scores_by_grade(\"reading\")\n",
    "\n",
    "dfReadingSummary.head(30)"
   ]
  },
  {
   "cell_type": "markdown",
   "metadata": {},
   "source": [
    "## School Performance by Size/Type/Budget"
   ]
  },
  {
   "cell_type": "markdown",
   "metadata": {},
   "source": [
    "### Create school averages grouping functions\n",
    "#### Function outputting a table grouping the average math/reading scores and % Passing Math/Reading/Overall rates, given a specific grouping column"
   ]
  },
  {
   "cell_type": "code",
   "execution_count": null,
   "metadata": {},
   "outputs": [],
   "source": [
    "'''\n",
    "Function:    school_averages_by_group\n",
    "Arguments:\n",
    "             Argument 1:  Summary dataframe\n",
    "             Argument 2:  Column to group by\n",
    "Returns:\n",
    "            Summary table dataframe\n",
    "'''\n",
    "def school_averages_by_group(df, col):\n",
    "    # Create a group based off of the bins\n",
    "    grouping = df.groupby(col)\n",
    "\n",
    "    # Create dataframes to house our math / reading averages for the groups\n",
    "    dfMathAveragesByGroups = pd.DataFrame(grouping[\"Average Math Score\"].mean()).reset_index()\n",
    "    #dfMathAveragesByGroups.head()\n",
    "    dfReadingAveragesByGroups = pd.DataFrame(grouping[\"Average Reading Score\"].mean()).reset_index()\n",
    "\n",
    "    # Create dataframes to house our % passing math/reading, overall passing rate columns for the groups\n",
    "    dfPercentPassingMathByGroups = pd.DataFrame(grouping[\"% Passing Math\"].mean()).reset_index()\n",
    "    dfPercentPassingReadingByGroups = pd.DataFrame(grouping[\"% Passing Reading\"].mean()).reset_index()\n",
    "    dfPercentOverallPassingByGroups = pd.DataFrame(grouping[\"% Overall Passing Rate\"].mean()).reset_index()\n",
    "\n",
    "    # Merge all the dataframes into summary frame\n",
    "    dfSummaryTable = pd.merge(dfMathAveragesByGroups, dfReadingAveragesByGroups, on=col)\n",
    "    dfSummaryTable = pd.merge(dfSummaryTable, dfPercentPassingMathByGroups, on=col)\n",
    "    dfSummaryTable = pd.merge(dfSummaryTable, dfPercentPassingReadingByGroups, on=col)\n",
    "    dfSummaryTable = pd.merge(dfSummaryTable, dfPercentOverallPassingByGroups, on=col)\n",
    "\n",
    "    # Set the index to the binning column \n",
    "    dfSummaryTable = dfSummaryTable.set_index(col)\n",
    "    \n",
    "    return dfSummaryTable"
   ]
  },
  {
   "cell_type": "markdown",
   "metadata": {},
   "source": [
    "#### Function outputting a table that breaks down school performances based on specified binning & grouping columns"
   ]
  },
  {
   "cell_type": "code",
   "execution_count": null,
   "metadata": {},
   "outputs": [],
   "source": [
    "'''\n",
    "Function:   schools_bin_summary\n",
    "Arguments:\n",
    "            Argument 1:  Summary dataframe\n",
    "            Argument 2:  Column to create\n",
    "            Argument 3:  Data Column to bin\n",
    "            Argument 4:  Bins (numeric)\n",
    "            Argument 5:  Bin groups (string) \n",
    "Returns:\n",
    "            Summary table dataframe\n",
    "'''\n",
    "def schools_bin_summary(df, col_to_bin, col_to_group, bins, groups):\n",
    "    # Convert the column to group back to numeric so that we can \"bin\" it (take any \"$\" characters out)\n",
    "    df[col_to_group] = df[col_to_group].replace('[\\$,)]','', regex=True).astype(float)\n",
    "\n",
    "    # Cut col_to_group column (e.g.,'Per Student Budget') values into bins, and add new \n",
    "    #  column to dataframe for our new binned values\n",
    "    df[col_to_bin] = pd.cut(df[col_to_group], bins, labels=groups)\n",
    "\n",
    "    # Call function to give us a grouped dataframe of all the averages\n",
    "    dfSummaryTable = school_averages_by_group(df, col_to_bin)\n",
    "\n",
    "    # Reorder the rows according to their order in the \"groups\" list\n",
    "    dfSummaryTable = dfSummaryTable.loc[groups,]\n",
    "\n",
    "    # Return the binned dataframe\n",
    "    return dfSummaryTable"
   ]
  },
  {
   "cell_type": "markdown",
   "metadata": {},
   "source": [
    "### School Performance by Budget"
   ]
  },
  {
   "cell_type": "code",
   "execution_count": null,
   "metadata": {},
   "outputs": [],
   "source": [
    "# Create the bins in which Data will be held\n",
    "bins_list = [0, 585, 615, 645, 675]\n",
    "\n",
    "# Create the names for the four bins\n",
    "group_names = ['<$585', '$585-615', '$615-645', '$645-675']\n",
    "\n",
    "# Call the function to output the dataframe for this binned table\n",
    "dfSpendingRanges = schools_bin_summary(\n",
    "                                        dfSchoolSummaryTable, \n",
    "                                        \"Spending Ranges (Per Student)\", \n",
    "                                        \"Per Student Budget\", \n",
    "                                        bins_list, \n",
    "                                        group_names\n",
    "                                      )\n",
    "dfSpendingRanges.head(10)"
   ]
  },
  {
   "cell_type": "markdown",
   "metadata": {},
   "source": [
    "### School Performance by Size"
   ]
  },
  {
   "cell_type": "code",
   "execution_count": null,
   "metadata": {},
   "outputs": [],
   "source": [
    "# Create the bins in which Data will be held\n",
    "bins_list = [0, 1000, 2000, 3000, 5000]\n",
    "\n",
    "# Create the names for the bins\n",
    "group_names = ['Small (<1000)', 'Medium-Small (1000-2000)', 'Medium-Large (2000-3000)', 'Large (3000-5000)']\n",
    "\n",
    "# Call the function with our summary table, column names, and bins info to output the dataframe for this binned table\n",
    "dfSchoolSizeSummary = schools_bin_summary(\n",
    "                                        dfSchoolSummaryTable, \n",
    "                                        \"School Size\", \n",
    "                                        \"Total Students\", \n",
    "                                        bins_list, \n",
    "                                        group_names\n",
    "                                      )\n",
    "# Reorder the results in reverse alpha order so we go from Small to Large\n",
    "dfSchoolSizeSummary.head(10)"
   ]
  },
  {
   "cell_type": "markdown",
   "metadata": {},
   "source": [
    "### School Performance by Type"
   ]
  },
  {
   "cell_type": "code",
   "execution_count": null,
   "metadata": {},
   "outputs": [],
   "source": [
    "# Set our column to group\n",
    "col_to_group = \"School Type\"\n",
    "\n",
    "# Pass summary table dataframe and grouping column to our utility function to obtain dataframe of grouped averages\n",
    "dfSchoolTypeSummary = school_averages_by_group (dfSchoolSummaryTable, col_to_group)\n",
    "\n",
    "# Output dataframe\n",
    "dfSchoolTypeSummary.head()"
   ]
  },
  {
   "cell_type": "code",
   "execution_count": null,
   "metadata": {},
   "outputs": [],
   "source": []
  }
 ],
 "metadata": {
  "kernelspec": {
   "display_name": "Python 3",
   "language": "python",
   "name": "python3"
  },
  "language_info": {
   "codemirror_mode": {
    "name": "ipython",
    "version": 3
   },
   "file_extension": ".py",
   "mimetype": "text/x-python",
   "name": "python",
   "nbconvert_exporter": "python",
   "pygments_lexer": "ipython3",
   "version": "3.7.4"
  }
 },
 "nbformat": 4,
 "nbformat_minor": 2
}
